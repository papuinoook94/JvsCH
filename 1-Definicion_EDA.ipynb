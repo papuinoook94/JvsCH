{
 "cells": [
  {
   "cell_type": "markdown",
   "metadata": {},
   "source": [
    "# INFORMACIÓN DEL PROYECTO"
   ]
  },
  {
   "cell_type": "markdown",
   "metadata": {},
   "source": [
    "### TÍTULO"
   ]
  },
  {
   "cell_type": "code",
   "execution_count": null,
   "metadata": {},
   "outputs": [],
   "source": [
    "#Escribe el título del proyecto en Markdown\n",
    "titulo = \"Japan y China, TechWar\""
   ]
  },
  {
   "cell_type": "markdown",
   "metadata": {},
   "source": [
    "### TEMA"
   ]
  },
  {
   "cell_type": "code",
   "execution_count": null,
   "metadata": {},
   "outputs": [],
   "source": [
    "# Describe brevemente el tema del proyecto en Markdown\n",
    "tema = \"Analisis del sector tecnologico de China y Japon a lo largo de los ultimos 20 años\""
   ]
  },
  {
   "cell_type": "markdown",
   "metadata": {},
   "source": [
    "### HIPÓTESIS"
   ]
  },
  {
   "cell_type": "markdown",
   "metadata": {},
   "source": [
    "Define aquí lo que será la hipótesis de tu proyecto.\n",
    "Deberás tener más de una, pero tu proyecto lo harás teniendo una principal hipótesis."
   ]
  },
  {
   "cell_type": "code",
   "execution_count": null,
   "metadata": {},
   "outputs": [],
   "source": [
    "# Escribe tu hipótesis principal en Markdown\n",
    "hipotesis_1 = \"¿Cómo han evolucionado las participaciones de mercado en los diferentes sectores tecnológicos en ambos países a lo largo de los años?\"\n",
    "hipotesis_2 = \"¿Cuál de los dos países ha invertido más en I+D a lo largo del tiempo y en qué sectores?\"\n",
    "hipotesis_3 = \"¿Existe una correlación entre la inversión en I+D y el número de patentes presentadas anualmente? ¿Varía esta relación entre China y Japón?\"\n",
    "hipotesis_4 = \"¿Cómo se ha clasificado cada país en términos de innovación global y cómo ha evolucionado su posición?\"\n",
    "hipotesis_5 = \"¿Cómo afectan la cobertura de 5G y la penetración de internet a la cantidad de startups y empresas tecnológicas?\"\n",
    "hipotesis_6 = \"¿Cuál es el crecimiento de startups en ambos países a lo largo de los años?\"\n",
    "hipotesis_7 = \"¿Existe una correlación positiva entre la cantidad de startups y la inversión en capital de riesgo (Venture Capital)?\"\n",
    "hipotesis_8 = \"¿Cuáles son los productos tecnológicos más exportados por cada país?\"\n",
    "hipotesis_9 = \"¿Qué relación existe entre el número de empresas tecnológicas y el empleo en estos sectores?\"\n",
    "hipotesis_10 = \"¿Hay una relación entre el ranking de innovación global de cada país y la cantidad invertida en I+D?\"\n",
    "\n"
   ]
  },
  {
   "cell_type": "markdown",
   "metadata": {},
   "source": [
    "## OBTENCIÓN DE LOS DATOS"
   ]
  },
  {
   "cell_type": "markdown",
   "metadata": {},
   "source": [
    "### DATASETS Y FUENTES ALTERNATIVAS DE DATOS"
   ]
  },
  {
   "cell_type": "markdown",
   "metadata": {},
   "source": [
    "Incluye aquí una vista del dataset o datasets de los que partirás para poder evaluar tu hipótesis. <br>\n",
    "También incluye el origen de estos datos y su fuente."
   ]
  },
  {
   "cell_type": "code",
   "execution_count": 2,
   "metadata": {},
   "outputs": [],
   "source": [
    "import pandas as pd\n",
    "# guarda en variables los datasets y su fuente\n",
    "data=pd.read_csv(\"Big_Japan_vs_China_Technology.csv\")\n",
    "fuente_1 = \"https://www.kaggle.com/datasets/waqi786/china-vs-japan\"\n",
    "# df_2 = pd.DataFrame()\n",
    "# fuente_2 = \"\"\n",
    "# df_3 = pd.DataFrame()\n",
    "# fuente_3 = \"\"\n",
    "# df_4 = pd.DataFrame()\n",
    "# fuente_4 = \"\"\n",
    "# df_5 = pd.DataFrame()\n",
    "# fuente_5 = \"\"\n",
    "# ..."
   ]
  },
  {
   "cell_type": "markdown",
   "metadata": {},
   "source": [
    "Muestra mediante un head() los principales datasets con los que vas a trabajar"
   ]
  },
  {
   "cell_type": "code",
   "execution_count": 3,
   "metadata": {},
   "outputs": [
    {
     "data": {
      "text/html": [
       "<div>\n",
       "<style scoped>\n",
       "    .dataframe tbody tr th:only-of-type {\n",
       "        vertical-align: middle;\n",
       "    }\n",
       "\n",
       "    .dataframe tbody tr th {\n",
       "        vertical-align: top;\n",
       "    }\n",
       "\n",
       "    .dataframe thead th {\n",
       "        text-align: right;\n",
       "    }\n",
       "</style>\n",
       "<table border=\"1\" class=\"dataframe\">\n",
       "  <thead>\n",
       "    <tr style=\"text-align: right;\">\n",
       "      <th></th>\n",
       "      <th>Country</th>\n",
       "      <th>Year</th>\n",
       "      <th>Tech Sector</th>\n",
       "      <th>Market Share (%)</th>\n",
       "      <th>R&amp;D Investment (in USD)</th>\n",
       "      <th>Number of Patents Filed (Annual)</th>\n",
       "      <th>Number of Tech Companies</th>\n",
       "      <th>Tech Exports (in USD)</th>\n",
       "      <th>Number of Startups</th>\n",
       "      <th>Venture Capital Funding (in USD)</th>\n",
       "      <th>Global Innovation Ranking</th>\n",
       "      <th>Internet Penetration (%)</th>\n",
       "      <th>5G Network Coverage (%)</th>\n",
       "      <th>University Research Collaborations</th>\n",
       "      <th>Top Tech Products Exported</th>\n",
       "      <th>Number of Tech Workers</th>\n",
       "    </tr>\n",
       "  </thead>\n",
       "  <tbody>\n",
       "    <tr>\n",
       "      <th>0</th>\n",
       "      <td>China</td>\n",
       "      <td>2001</td>\n",
       "      <td>Software</td>\n",
       "      <td>22.279014</td>\n",
       "      <td>8.377208e+10</td>\n",
       "      <td>1415</td>\n",
       "      <td>878</td>\n",
       "      <td>3.503155e+10</td>\n",
       "      <td>166</td>\n",
       "      <td>4.502694e+10</td>\n",
       "      <td>11</td>\n",
       "      <td>57.088673</td>\n",
       "      <td>82.240272</td>\n",
       "      <td>50</td>\n",
       "      <td>Robots</td>\n",
       "      <td>621221</td>\n",
       "    </tr>\n",
       "    <tr>\n",
       "      <th>1</th>\n",
       "      <td>Japan</td>\n",
       "      <td>2011</td>\n",
       "      <td>Semiconductor</td>\n",
       "      <td>31.899013</td>\n",
       "      <td>3.551134e+10</td>\n",
       "      <td>7899</td>\n",
       "      <td>364</td>\n",
       "      <td>3.714209e+10</td>\n",
       "      <td>217</td>\n",
       "      <td>1.147381e+10</td>\n",
       "      <td>14</td>\n",
       "      <td>78.172090</td>\n",
       "      <td>48.552982</td>\n",
       "      <td>134</td>\n",
       "      <td>5G Equipment</td>\n",
       "      <td>431928</td>\n",
       "    </tr>\n",
       "    <tr>\n",
       "      <th>2</th>\n",
       "      <td>Japan</td>\n",
       "      <td>2009</td>\n",
       "      <td>Robotics</td>\n",
       "      <td>33.574466</td>\n",
       "      <td>8.480948e+10</td>\n",
       "      <td>3749</td>\n",
       "      <td>425</td>\n",
       "      <td>1.570406e+11</td>\n",
       "      <td>451</td>\n",
       "      <td>5.498885e+09</td>\n",
       "      <td>14</td>\n",
       "      <td>55.810668</td>\n",
       "      <td>66.495286</td>\n",
       "      <td>58</td>\n",
       "      <td>Semiconductors</td>\n",
       "      <td>55776</td>\n",
       "    </tr>\n",
       "    <tr>\n",
       "      <th>3</th>\n",
       "      <td>Japan</td>\n",
       "      <td>2019</td>\n",
       "      <td>Cloud Computing</td>\n",
       "      <td>24.904248</td>\n",
       "      <td>2.267821e+10</td>\n",
       "      <td>3841</td>\n",
       "      <td>62</td>\n",
       "      <td>1.031284e+11</td>\n",
       "      <td>264</td>\n",
       "      <td>2.186278e+10</td>\n",
       "      <td>10</td>\n",
       "      <td>78.553714</td>\n",
       "      <td>28.807251</td>\n",
       "      <td>150</td>\n",
       "      <td>Robots</td>\n",
       "      <td>267852</td>\n",
       "    </tr>\n",
       "    <tr>\n",
       "      <th>4</th>\n",
       "      <td>China</td>\n",
       "      <td>2002</td>\n",
       "      <td>Robotics</td>\n",
       "      <td>46.975827</td>\n",
       "      <td>3.453655e+10</td>\n",
       "      <td>1704</td>\n",
       "      <td>458</td>\n",
       "      <td>1.112056e+11</td>\n",
       "      <td>463</td>\n",
       "      <td>4.098282e+10</td>\n",
       "      <td>10</td>\n",
       "      <td>70.427548</td>\n",
       "      <td>38.746268</td>\n",
       "      <td>74</td>\n",
       "      <td>AI Chips</td>\n",
       "      <td>654162</td>\n",
       "    </tr>\n",
       "  </tbody>\n",
       "</table>\n",
       "</div>"
      ],
      "text/plain": [
       "  Country  Year      Tech Sector  Market Share (%)  R&D Investment (in USD)  \\\n",
       "0   China  2001         Software         22.279014             8.377208e+10   \n",
       "1   Japan  2011    Semiconductor         31.899013             3.551134e+10   \n",
       "2   Japan  2009         Robotics         33.574466             8.480948e+10   \n",
       "3   Japan  2019  Cloud Computing         24.904248             2.267821e+10   \n",
       "4   China  2002         Robotics         46.975827             3.453655e+10   \n",
       "\n",
       "   Number of Patents Filed (Annual)  Number of Tech Companies  \\\n",
       "0                              1415                       878   \n",
       "1                              7899                       364   \n",
       "2                              3749                       425   \n",
       "3                              3841                        62   \n",
       "4                              1704                       458   \n",
       "\n",
       "   Tech Exports (in USD)  Number of Startups  \\\n",
       "0           3.503155e+10                 166   \n",
       "1           3.714209e+10                 217   \n",
       "2           1.570406e+11                 451   \n",
       "3           1.031284e+11                 264   \n",
       "4           1.112056e+11                 463   \n",
       "\n",
       "   Venture Capital Funding (in USD)  Global Innovation Ranking  \\\n",
       "0                      4.502694e+10                         11   \n",
       "1                      1.147381e+10                         14   \n",
       "2                      5.498885e+09                         14   \n",
       "3                      2.186278e+10                         10   \n",
       "4                      4.098282e+10                         10   \n",
       "\n",
       "   Internet Penetration (%)  5G Network Coverage (%)  \\\n",
       "0                 57.088673                82.240272   \n",
       "1                 78.172090                48.552982   \n",
       "2                 55.810668                66.495286   \n",
       "3                 78.553714                28.807251   \n",
       "4                 70.427548                38.746268   \n",
       "\n",
       "   University Research Collaborations Top Tech Products Exported  \\\n",
       "0                                  50                     Robots   \n",
       "1                                 134               5G Equipment   \n",
       "2                                  58             Semiconductors   \n",
       "3                                 150                     Robots   \n",
       "4                                  74                   AI Chips   \n",
       "\n",
       "   Number of Tech Workers  \n",
       "0                  621221  \n",
       "1                  431928  \n",
       "2                   55776  \n",
       "3                  267852  \n",
       "4                  654162  "
      ]
     },
     "execution_count": 3,
     "metadata": {},
     "output_type": "execute_result"
    }
   ],
   "source": [
    "# Primer dataset\n",
    "data.head()"
   ]
  },
  {
   "cell_type": "code",
   "execution_count": null,
   "metadata": {},
   "outputs": [],
   "source": [
    "# Siguiente dataset...\n",
    "# df_2.head()"
   ]
  }
 ],
 "metadata": {
  "kernelspec": {
   "display_name": "Python 3",
   "language": "python",
   "name": "python3"
  },
  "language_info": {
   "codemirror_mode": {
    "name": "ipython",
    "version": 3
   },
   "file_extension": ".py",
   "mimetype": "text/x-python",
   "name": "python",
   "nbconvert_exporter": "python",
   "pygments_lexer": "ipython3",
   "version": "3.11.9"
  },
  "orig_nbformat": 4
 },
 "nbformat": 4,
 "nbformat_minor": 2
}
